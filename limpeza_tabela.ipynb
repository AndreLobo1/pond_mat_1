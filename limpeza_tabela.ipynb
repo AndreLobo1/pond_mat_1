{
  "nbformat": 4,
  "nbformat_minor": 0,
  "metadata": {
    "colab": {
      "provenance": [],
      "mount_file_id": "1D6EWGTZjY08paLFBFMQiOzWU5z5Zdnu0",
      "authorship_tag": "ABX9TyNsOsw2DR+H9aBS6uNAXNJ6",
      "include_colab_link": true
    },
    "kernelspec": {
      "name": "python3",
      "display_name": "Python 3"
    },
    "language_info": {
      "name": "python"
    }
  },
  "cells": [
    {
      "cell_type": "markdown",
      "metadata": {
        "id": "view-in-github",
        "colab_type": "text"
      },
      "source": [
        "<a href=\"https://colab.research.google.com/github/AndreLobo1/pond_mat_1/blob/main/limpeza_tabela_1.ipynb\" target=\"_parent\"><img src=\"https://colab.research.google.com/assets/colab-badge.svg\" alt=\"Open In Colab\"/></a>"
      ]
    },
    {
      "cell_type": "markdown",
      "source": [
        "Carregar a biblioteca pandas"
      ],
      "metadata": {
        "id": "qBpkAeDOMTL2"
      }
    },
    {
      "cell_type": "code",
      "source": [
        "import pandas as pd"
      ],
      "metadata": {
        "id": "V-Saj-V2MY4r"
      },
      "execution_count": 16,
      "outputs": []
    },
    {
      "cell_type": "markdown",
      "source": [
        "Importa o arquivo"
      ],
      "metadata": {
        "id": "bXHbgIfQzNp-"
      }
    },
    {
      "cell_type": "code",
      "source": [
        "file_path = '/content/drive/MyDrive/AUDIENCIA_07_08_2024_COMPLETA.csv'\n",
        "df = pd.read_csv(file_path)"
      ],
      "metadata": {
        "id": "aCesWbXiMekG"
      },
      "execution_count": 17,
      "outputs": []
    },
    {
      "cell_type": "markdown",
      "source": [
        "Criar um dicionário para mapear os meses em português para números\n"
      ],
      "metadata": {
        "id": "KG6SflWPMuzd"
      }
    },
    {
      "cell_type": "code",
      "source": [
        "meses = {\n",
        "    'jan.': 1, 'fev.': 2, 'mar.': 3, 'abr.': 4,\n",
        "    'mai.': 5, 'jun.': 6, 'jul.': 7, 'ago.': 8,\n",
        "    'set.': 9, 'out.': 10, 'nov.': 11, 'dez.': 12\n",
        "}"
      ],
      "metadata": {
        "id": "64_ol9H7MyVh"
      },
      "execution_count": 18,
      "outputs": []
    },
    {
      "cell_type": "markdown",
      "source": [
        "Separar a coluna \"PERIODO\" em \"Ano\" e \"Mês\"*\n"
      ],
      "metadata": {
        "id": "7r2oKjvmM1Mj"
      }
    },
    {
      "cell_type": "code",
      "source": [
        "df['Ano'] = df['PERIODO'].apply(lambda x: '20' + x.split('-')[1])\n",
        "df['Mês'] = df['PERIODO'].apply(lambda x: meses[x.split('-')[0]])"
      ],
      "metadata": {
        "id": "jyJwOMQHM672"
      },
      "execution_count": 19,
      "outputs": []
    },
    {
      "cell_type": "markdown",
      "source": [
        "Elimina a coluna 'PERIODO'"
      ],
      "metadata": {
        "id": "MYDgJNdg0ISJ"
      }
    },
    {
      "cell_type": "code",
      "source": [
        "df = df.drop(columns=['PERIODO'])"
      ],
      "metadata": {
        "id": "TU_hB7jJND6p"
      },
      "execution_count": 20,
      "outputs": []
    },
    {
      "cell_type": "markdown",
      "source": [
        "Função para remover separadores de milhar e converter para numérico\n"
      ],
      "metadata": {
        "id": "UZOnn-9mNGkd"
      }
    },
    {
      "cell_type": "code",
      "source": [
        "def converter_para_numerico(valor):\n",
        "    if isinstance(valor, str):\n",
        "        valor = valor.replace('.', '')\n",
        "        valor = valor.replace(',', '.')\n",
        "        return pd.to_numeric(valor, errors='coerce')\n",
        "    return valor"
      ],
      "metadata": {
        "id": "l3vgHljcNKdl"
      },
      "execution_count": 21,
      "outputs": []
    },
    {
      "cell_type": "markdown",
      "source": [
        "Aplicar a função de conversão nas colunas \"INTERNET\" e\"PORTAL G1/GE/HOME\"\n"
      ],
      "metadata": {
        "id": "784Hou_yNOyh"
      }
    },
    {
      "cell_type": "code",
      "source": [
        "df['INTERNET'] = df['INTERNET'].apply(converter_para_numerico)\n",
        "df['PORTAL G1/GE/HOME'] = df['PORTAL G1/GE/HOME'].apply(converter_para_numerico)"
      ],
      "metadata": {
        "id": "K1UwKya1NUtg"
      },
      "execution_count": 22,
      "outputs": []
    },
    {
      "cell_type": "markdown",
      "source": [
        "Garantir que a coluna \"Ano\" esteja no formato numérico"
      ],
      "metadata": {
        "id": "TlxeOHqyNVwk"
      }
    },
    {
      "cell_type": "code",
      "source": [
        "df['Ano'] = pd.to_numeric(df['Ano'], errors='coerce')"
      ],
      "metadata": {
        "id": "nHp2ePtnNbr0"
      },
      "execution_count": 23,
      "outputs": []
    },
    {
      "cell_type": "markdown",
      "source": [
        "Identificar colunas categóricas e numéricas"
      ],
      "metadata": {
        "id": "1cAnXLY3Ndu0"
      }
    },
    {
      "cell_type": "code",
      "source": [
        "colunas_categoricas = df.select_dtypes(include='object').columns\n",
        "colunas_numericas = df.drop(colunas_categoricas, axis=1).columns\n",
        "\n",
        "print(f'Há {len(colunas_categoricas)} Colunas Categóricas: {list(colunas_categoricas)}')\n",
        "print(f'Há {len(colunas_numericas)} Colunas Numéricas: {list(colunas_numericas)}')\n"
      ],
      "metadata": {
        "colab": {
          "base_uri": "https://localhost:8080/"
        },
        "id": "q_YnPX0INg_1",
        "outputId": "f606d246-71c9-4891-c7eb-abdeb8fdc584"
      },
      "execution_count": 24,
      "outputs": [
        {
          "output_type": "stream",
          "name": "stdout",
          "text": [
            "Há 0 Colunas Categóricas: []\n",
            "Há 9 Colunas Numéricas: ['TV GAZETA  ', 'GAZETA FM VITÓRIA', 'LITORAL FM', 'CBN VITORIA', 'RÁDIO MIX VITÓRIA', 'INTERNET', 'PORTAL G1/GE/HOME', 'Ano', 'Mês']\n"
          ]
        }
      ]
    },
    {
      "cell_type": "markdown",
      "source": [
        "Arredondar os valores numéricos para 3 casas decimais\n"
      ],
      "metadata": {
        "id": "4pufeYLDNhvX"
      }
    },
    {
      "cell_type": "code",
      "source": [
        "df[colunas_numericas] = df[colunas_numericas].round(3)"
      ],
      "metadata": {
        "id": "7tWEQheDNnre"
      },
      "execution_count": 25,
      "outputs": []
    },
    {
      "cell_type": "markdown",
      "source": [
        "Reordenar as colunas para que \"Ano\" e \"Mês\" sejam as primeiras\n"
      ],
      "metadata": {
        "id": "zXt421fpNuR4"
      }
    },
    {
      "cell_type": "code",
      "source": [
        "colunas = ['Ano', 'Mês'] + [col for col in df.columns if col not in ['Ano', 'Mês']]\n",
        "df = df[colunas]"
      ],
      "metadata": {
        "id": "TYQAKZ8QNxNR"
      },
      "execution_count": 26,
      "outputs": []
    },
    {
      "cell_type": "markdown",
      "source": [
        "Exibir as primeiras linhas para verificar a limpeza"
      ],
      "metadata": {
        "id": "48SKy63KN0eC"
      }
    },
    {
      "cell_type": "code",
      "source": [
        "print(\"Primeiras linhas após a reordenação das colunas:\")\n",
        "print(df.head())"
      ],
      "metadata": {
        "colab": {
          "base_uri": "https://localhost:8080/"
        },
        "id": "bPpFlOGuN5S5",
        "outputId": "b41bcc1f-b5f8-4919-eeec-f360a764f3cd"
      },
      "execution_count": 27,
      "outputs": [
        {
          "output_type": "stream",
          "name": "stdout",
          "text": [
            "Primeiras linhas após a reordenação das colunas:\n",
            "    Ano  Mês  TV GAZETA    GAZETA FM VITÓRIA  LITORAL FM  CBN VITORIA  \\\n",
            "0  2020    1      769.843              4.838      18.014        7.144   \n",
            "1  2020    2      744.739              3.378      18.057        5.576   \n",
            "2  2020    3      798.373              5.845      22.609        6.969   \n",
            "3  2020    4      775.029              6.584      23.975        6.532   \n",
            "4  2020    5      752.017              8.150      23.355        6.290   \n",
            "\n",
            "   RÁDIO MIX VITÓRIA  INTERNET  PORTAL G1/GE/HOME  \n",
            "0              1.840   3727780            2372384  \n",
            "1              1.591   4407044            1496569  \n",
            "2              2.681   8020768            1787890  \n",
            "3              3.271   6837563            1711619  \n",
            "4              2.569   5883559            2010560  \n"
          ]
        }
      ]
    }
  ]
}
